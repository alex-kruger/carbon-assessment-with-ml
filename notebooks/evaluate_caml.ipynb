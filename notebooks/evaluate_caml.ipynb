{
 "cells": [
  {
   "cell_type": "code",
   "execution_count": 7,
   "metadata": {},
   "outputs": [],
   "source": [
    "import pandas as pd\n",
    "from tqdm import tqdm\n",
    "\n",
    "from sklearn.metrics import mean_absolute_percentage_error as mape\n",
    "from sklearn.metrics import r2_score\n",
    "\n",
    "from caml import config\n",
    "from caml.utils import utils_preprocess_text\n",
    "from caml.similarity import MLModel"
   ]
  },
  {
   "cell_type": "code",
   "execution_count": 2,
   "metadata": {},
   "outputs": [],
   "source": [
    "annotation_df = pd.read_pickle('../data/6k_grocery_products_annotations.pkl')"
   ]
  },
  {
   "cell_type": "code",
   "execution_count": 3,
   "metadata": {},
   "outputs": [],
   "source": [
    "naics_df = pd.read_pickle('../data/naics_codes.pkl')"
   ]
  },
  {
   "cell_type": "code",
   "execution_count": 4,
   "metadata": {},
   "outputs": [],
   "source": [
    "annotation_df = annotation_df.merge(naics_df[['naics_code','eio_co2']], \n",
    "                left_on='naics_code', right_on='naics_code', how='left').drop(columns='raw_annotations').drop_duplicates()"
   ]
  },
  {
   "cell_type": "code",
   "execution_count": 5,
   "metadata": {},
   "outputs": [
    {
     "data": {
      "text/html": [
       "<div>\n",
       "<style scoped>\n",
       "    .dataframe tbody tr th:only-of-type {\n",
       "        vertical-align: middle;\n",
       "    }\n",
       "\n",
       "    .dataframe tbody tr th {\n",
       "        vertical-align: top;\n",
       "    }\n",
       "\n",
       "    .dataframe thead th {\n",
       "        text-align: right;\n",
       "    }\n",
       "</style>\n",
       "<table border=\"1\" class=\"dataframe\">\n",
       "  <thead>\n",
       "    <tr style=\"text-align: right;\">\n",
       "      <th></th>\n",
       "      <th>product_code</th>\n",
       "      <th>naics_code</th>\n",
       "      <th>product_text</th>\n",
       "      <th>eio_co2</th>\n",
       "    </tr>\n",
       "  </thead>\n",
       "  <tbody>\n",
       "    <tr>\n",
       "      <th>0</th>\n",
       "      <td>B01F7AW9MO</td>\n",
       "      <td>311821</td>\n",
       "      <td>Hail Merry Chocolate Chip Cookie Dough Macaroo...</td>\n",
       "      <td>0.875952</td>\n",
       "    </tr>\n",
       "    <tr>\n",
       "      <th>9</th>\n",
       "      <td>B01LY5ZSPH</td>\n",
       "      <td>339913</td>\n",
       "      <td>90 Cake Topper  Gold Premium Metal Number 90 B...</td>\n",
       "      <td>0.287076</td>\n",
       "    </tr>\n",
       "    <tr>\n",
       "      <th>15</th>\n",
       "      <td>B000WO434S</td>\n",
       "      <td>325998</td>\n",
       "      <td>NielsenMassey Pure Orange Extract with Gift bo...</td>\n",
       "      <td>0.799217</td>\n",
       "    </tr>\n",
       "    <tr>\n",
       "      <th>102</th>\n",
       "      <td>B075R61D2B</td>\n",
       "      <td>0</td>\n",
       "      <td>Nature Made Energy B12 1000 mcg Gummies 80 Cou...</td>\n",
       "      <td>NaN</td>\n",
       "    </tr>\n",
       "    <tr>\n",
       "      <th>103</th>\n",
       "      <td>B00HES9CMS</td>\n",
       "      <td>311320</td>\n",
       "      <td>Viva Naturals 1 Best Selling Certified Organic...</td>\n",
       "      <td>0.746672</td>\n",
       "    </tr>\n",
       "  </tbody>\n",
       "</table>\n",
       "</div>"
      ],
      "text/plain": [
       "    product_code  naics_code  \\\n",
       "0     B01F7AW9MO      311821   \n",
       "9     B01LY5ZSPH      339913   \n",
       "15    B000WO434S      325998   \n",
       "102   B075R61D2B           0   \n",
       "103   B00HES9CMS      311320   \n",
       "\n",
       "                                          product_text   eio_co2  \n",
       "0    Hail Merry Chocolate Chip Cookie Dough Macaroo...  0.875952  \n",
       "9    90 Cake Topper  Gold Premium Metal Number 90 B...  0.287076  \n",
       "15   NielsenMassey Pure Orange Extract with Gift bo...  0.799217  \n",
       "102  Nature Made Energy B12 1000 mcg Gummies 80 Cou...       NaN  \n",
       "103  Viva Naturals 1 Best Selling Certified Organic...  0.746672  "
      ]
     },
     "execution_count": 5,
     "metadata": {},
     "output_type": "execute_result"
    }
   ],
   "source": [
    "annotation_df.head()"
   ]
  },
  {
   "cell_type": "code",
   "execution_count": 6,
   "metadata": {},
   "outputs": [
    {
     "name": "stderr",
     "output_type": "stream",
     "text": [
      "/var/folders/rt/c3955xp57xj0gdn078hf2my80000gs/T/ipykernel_6150/200897850.py:2: FutureWarning: The default value of regex will change from True to False in a future version.\n",
      "  annotation_df['text_clean'] = annotation_df['text_clean'].str.replace('\\d+', '')\n"
     ]
    }
   ],
   "source": [
    "annotation_df[\"text_clean\"] = annotation_df[\"product_text\"].apply(lambda x: utils_preprocess_text(x, flg_stemm=False, flg_lemm=True))\n",
    "annotation_df['text_clean'] = annotation_df['text_clean'].str.replace('\\d+', '')\n",
    "annotation_df['text_clean'] = annotation_df['text_clean'].str.replace('_', ' ', regex=False)\n",
    "annotation_df['text_clean'] = annotation_df['text_clean'].str.replace('   ', ' ', regex=False)\n",
    "annotation_df['text_clean'] = annotation_df['text_clean'].str.replace('  ', ' ', regex=False)\n",
    "annotation_df['text_clean'] = annotation_df['text_clean'].str.lstrip()\n",
    "annotation_df['text_clean'] = annotation_df['text_clean'].str.rstrip()"
   ]
  },
  {
   "cell_type": "code",
   "execution_count": null,
   "metadata": {},
   "outputs": [],
   "source": [
    "model = MLModel(config.model_name)\n",
    "product_list = annotation_df.text_clean.values\n",
    "naics_list = naics_df.text_clean.values\n",
    "cosine_scores = model.compute_similarity_scores(product_list, naics_list)"
   ]
  },
  {
   "cell_type": "code",
   "execution_count": 8,
   "metadata": {},
   "outputs": [],
   "source": [
    "# Clear the evaluation dataframes where results will be stored.\n",
    "evaluation_df = pd.DataFrame()"
   ]
  },
  {
   "cell_type": "code",
   "execution_count": null,
   "metadata": {},
   "outputs": [],
   "source": [
    "## Evaluate the products in the test set\n",
    "# Aggregate the top-20 NAICS descriptions by NAICS codes. Save the top-5. \n",
    "for ix in tqdm(range(len(annotation_df))):\n",
    "    similarity_score = model.rank_similarity_scores(annotation_df, cosine_scores, ix, naics_df)\n",
    "    aggregated_scores = similarity_score.groupby('naics_code').first()\n",
    "    aggregated_scores['votes'] = similarity_score.groupby('naics_code').size()\n",
    "    aggregated_scores = aggregated_scores.sort_values(['cosine_score', 'votes'], ascending=False).reset_index()\n",
    "    evaluation_df = pd.concat([evaluation_df, aggregated_scores.head(1)])"
   ]
  },
  {
   "cell_type": "code",
   "execution_count": null,
   "metadata": {},
   "outputs": [],
   "source": [
    "## Compute the top-1 accuracy of the model\n",
    "# Use annotation_df dataframe if you want to evaluate against all the products at the same time\n",
    "# instead of just the test set\n",
    "adf = annotation_df.merge(naics_df[['naics_code','naics_desc']].groupby('naics_code').first(), \n",
    "                     left_on='naics_code', right_on='naics_code', how='left')\n",
    "edf = evaluation_df.merge(naics_df[['naics_code','eio_co2']], left_on='naics_code', \n",
    "                          right_on='naics_code', how='left')\n",
    "if len(edf.product_code.unique()) > len(adf.product_code.unique()):                          \n",
    "    df = adf.set_index(\"product_code\").join(edf.set_index(\"product_code\"), lsuffix='_human', rsuffix='_model')\n",
    "else:\n",
    "    df = edf.set_index(\"product_code\").join(adf.set_index(\"product_code\"), lsuffix='_human', rsuffix='_model')\n",
    "rf = df[df.naics_code_human == df.naics_code_model]\n",
    "\n",
    "print(\"Top-1 accuracy w.r.t NAICS codes: \", len(rf.index.unique())/len(df.index.unique()))\n",
    "print(\"Correct predictions: {}, Total Products: {}\".format(len(rf.index.unique()), len(df.index.unique())))\n",
    "\n",
    "## Compute the top-1 accuracy with respect to BEA codes (top 4 digits of NAICS code)\n",
    "df.bea_human = df.naics_code_human//100\n",
    "df.bea_model = df.naics_code_model//100\n",
    "bf = df[df.bea_human == df.bea_model]\n",
    "print(\"Top-1 accuracy w.r.t BEA codes: \", len(bf.index.unique())/len(df.index.unique()))\n",
    "print(\"Correct predictions: {}, Total Products: {}\".format(len(bf.index.unique()), len(df.index.unique())))\n",
    "\n",
    "# Compute the mean absolute percentage error and R^2 value w.r.t EIF for zero-shot prediction\n",
    "df = df.dropna()\n",
    "y_true = df.groupby(df.index).first().eio_co2_human\n",
    "y_pred = df.groupby(df.index).first().eio_co2_model\n",
    "print(\"The mean absolute percentage error for predicting kgCO2e/$: \", mape(y_true, y_pred))\n",
    "print(\"The R2 value for predicting kgCO2e/$: \", r2_score(y_true, y_pred))"
   ]
  }
 ],
 "metadata": {
  "kernelspec": {
   "display_name": "Python 3.10.4 ('ssi')",
   "language": "python",
   "name": "python3"
  },
  "language_info": {
   "codemirror_mode": {
    "name": "ipython",
    "version": 3
   },
   "file_extension": ".py",
   "mimetype": "text/x-python",
   "name": "python",
   "nbconvert_exporter": "python",
   "pygments_lexer": "ipython3",
   "version": "3.10.4"
  },
  "orig_nbformat": 4,
  "vscode": {
   "interpreter": {
    "hash": "df8f619cfccbb2634a021ab6d2f8b0de898ef4bb503ba8f984c5d16c0d4e7a35"
   }
  }
 },
 "nbformat": 4,
 "nbformat_minor": 2
}
